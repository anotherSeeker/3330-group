{
 "cells": [
  {
   "cell_type": "code",
   "execution_count": 131,
   "metadata": {},
   "outputs": [],
   "source": [
    "import torch\n",
    "import torchvision\n",
    "import torchvision.transforms as transforms\n",
    "import numpy as np\n",
    "import matplotlib.pyplot as plt"
   ]
  },
  {
   "cell_type": "code",
   "execution_count": 132,
   "metadata": {},
   "outputs": [
    {
     "name": "stdout",
     "output_type": "stream",
     "text": [
      "Using cuda\n"
     ]
    },
    {
     "data": {
      "text/plain": [
       "device(type='cuda')"
      ]
     },
     "execution_count": 132,
     "metadata": {},
     "output_type": "execute_result"
    }
   ],
   "source": [
    "device = 'cuda' if torch.cuda.is_available() else 'cpu'\n",
    "print('Using {}'.format(device))\n",
    "torch.device(device)"
   ]
  },
  {
   "cell_type": "code",
   "execution_count": 133,
   "metadata": {},
   "outputs": [],
   "source": [
    "#training variables\n",
    "\n",
    "imgTransformSize = 224\n",
    "#range of degrees +- to rotate\n",
    "imgTransformRngRot = 5\n",
    "\n",
    "epochs = 90\n",
    "\n",
    "modelLearnRate = 0.05\n",
    "modelMomentum= 0.5\n",
    "modelWeightDecay= 0.003\n",
    "\n",
    "\n",
    "train_dataset_path = './datasets/FoodTrain1'\n",
    "valid_dataset_path = './datasets/FoodValidate1'"
   ]
  },
  {
   "cell_type": "code",
   "execution_count": 134,
   "metadata": {},
   "outputs": [],
   "source": [
    "train_transforms = transforms.Compose([\n",
    "    transforms.RandomResizedCrop(scale=(0.6, 1.0), size=(imgTransformSize,imgTransformSize)),\n",
    "    transforms.RandomHorizontalFlip(),\n",
    "    transforms.RandomRotation(imgTransformRngRot),\n",
    "    transforms.ToTensor()\n",
    "])\n",
    "\n",
    "valid_transforms = transforms.Compose([\n",
    "    transforms.RandomResizedCrop(size=(imgTransformSize,imgTransformSize)),\n",
    "    transforms.ToTensor()\n",
    "])"
   ]
  },
  {
   "cell_type": "code",
   "execution_count": 135,
   "metadata": {},
   "outputs": [],
   "source": [
    "train_dataset = torchvision.datasets.ImageFolder(root = train_dataset_path, transform = train_transforms)\n",
    "valid_dataset = torchvision.datasets.ImageFolder(root = valid_dataset_path, transform = valid_transforms)"
   ]
  },
  {
   "cell_type": "code",
   "execution_count": 136,
   "metadata": {},
   "outputs": [],
   "source": [
    "def show_transformed_images(dataset):\n",
    "    loader = torch.utils.data.DataLoader(dataset, batch_size = 6, shuffle=True)\n",
    "    batch = next(iter(loader))\n",
    "    images, labels = batch\n",
    "    \n",
    "    grid = torchvision.utils.make_grid(images, nrow=3)\n",
    "    plt.figure(figsize=(11,11))\n",
    "    plt.imshow(np.transpose(grid,(1,2,0)))\n",
    "    print('labels: ', labels)\n",
    "\n",
    "#show_transformed_images(train_dataset)"
   ]
  },
  {
   "cell_type": "code",
   "execution_count": 137,
   "metadata": {},
   "outputs": [],
   "source": [
    "train_loader = torch.utils.data.DataLoader(train_dataset, batch_size = 32, shuffle = True)\n",
    "valid_loader = torch.utils.data.DataLoader(valid_dataset, batch_size = 32, shuffle = False)\n",
    "\n",
    "train_losses, valid_losses = [], []\n",
    "train_accs, valid_accs = [], []\n"
   ]
  },
  {
   "cell_type": "code",
   "execution_count": 138,
   "metadata": {},
   "outputs": [],
   "source": [
    "import torchvision.models as models\n",
    "import torch.nn as nn\n",
    "import torch.optim as optim\n",
    "\n",
    "resnet18_model = models.resnet18(weights = models.ResNet18_Weights.DEFAULT)\n",
    "num_features = resnet18_model.fc.in_features\n",
    "num_object_categories = 40 \n",
    "resnet18_model.fc = nn.Linear(num_features, num_object_categories)\n",
    "resnet18_model = resnet18_model.to(device)\n",
    "\n",
    "\n",
    "resnet50_model = models.resnet50(weights = models.ResNet50_Weights.IMAGENET1K_V2)\n",
    "num_features = resnet50_model.fc.in_features\n",
    "num_object_categories = 40 \n",
    "resnet50_model.fc = nn.Linear(num_features, num_object_categories)\n",
    "resnet50_model = resnet50_model.to(device)\n",
    "\n",
    "\n",
    "#The model we're actually using\n",
    "usedModel = resnet50_model\n",
    "\n",
    "from datetime import datetime\n",
    "\n",
    "now = datetime.now()\n",
    "checkpointName = now.strftime(\"%y%m%d%H%M\")\n",
    "\n",
    "if (usedModel == resnet50_model):\n",
    "    checkpointName = 'resnet50_'+checkpointName\n",
    "else:\n",
    "    checkpointName = 'resnet18_'+checkpointName"
   ]
  },
  {
   "cell_type": "code",
   "execution_count": 139,
   "metadata": {},
   "outputs": [],
   "source": [
    "loss_fn = nn.CrossEntropyLoss()\n",
    "\n",
    "optimiser = optim.SGD(usedModel.parameters(), lr=modelLearnRate, momentum=modelMomentum, weight_decay=modelWeightDecay)"
   ]
  },
  {
   "cell_type": "code",
   "execution_count": 140,
   "metadata": {},
   "outputs": [],
   "source": [
    "def save_checkpoint(model, epoch, optimiser, best_acc):\n",
    "    state = {\n",
    "        'epoch': epoch+1,\n",
    "        'model': model.state_dict(),\n",
    "        'best_accuracy': best_acc,\n",
    "        'optimiser' : optimiser.state_dict(),\n",
    "        'comments':'learning rate: {:.2f} momentum: {:.2f} Weight Decay: {:.5f}'.format(modelLearnRate, modelMomentum, modelWeightDecay)\n",
    "    }\n",
    "\n",
    "    torch.save(state, checkpointName+'.pth.tar')"
   ]
  },
  {
   "cell_type": "code",
   "execution_count": 141,
   "metadata": {},
   "outputs": [],
   "source": [
    "def train_network(model, train_loader, valid_loader, criterion, optimiser, n_epochs):\n",
    "    \n",
    "    best_acc = 0\n",
    "    \n",
    "    for epoch in range(n_epochs):\n",
    "        #print(\"Epoch number %d (epoch + 1)\")\n",
    "        model.train()\n",
    "        epoch_loss, epoch_accuracy = 0, 0\n",
    "        epoch_valid_accuracy, epoch_valid_loss = 0, 0\n",
    "        totalImg = 0\n",
    "        running_total = 0\n",
    "\n",
    "        for data in train_loader:\n",
    "            images, labels = data\n",
    "            images = images.to(device)\n",
    "            labels = labels.to(device)\n",
    "            totalImg += labels.size(0)\n",
    "\n",
    "            optimiser.zero_grad()\n",
    "\n",
    "            outputs = model(images)\n",
    "\n",
    "            loss = criterion(outputs, labels)\n",
    "            loss.backward()\n",
    "\n",
    "            optimiser.step()\n",
    "\n",
    "            acc = ((outputs.argmax(dim=1) == labels).float().mean())\n",
    "\n",
    "            running_total += (outputs.argmax(dim=1) == labels).sum().item()\n",
    "\n",
    "            epoch_accuracy += acc/len(train_loader)\n",
    "            epoch_loss += loss/len(train_loader)\n",
    "\n",
    "        print('Epoch: {}, train accuracy: {:.2f}%, train loss: {:.4f}'.format(epoch+1, epoch_accuracy*100, epoch_loss), end=\" | \")\n",
    "        train_losses.append(epoch_loss.item())\n",
    "        train_accs.append(epoch_accuracy.item())\n",
    "\n",
    "        #print(\"     -training set got %d out of %d images (%.3f%%)\" % (running_total, totalImg, epoch_accuracy*100))\n",
    "        model.eval()\n",
    "\n",
    "        with torch.no_grad():\n",
    "\n",
    "            for data in valid_loader:\n",
    "                images, labels = data\n",
    "                images = images.to(device)\n",
    "                labels = labels.to(device)\n",
    "\n",
    "                valid_output = model(images)\n",
    "                valid_loss = loss_fn(valid_output, labels)\n",
    "\n",
    "                acc = ((valid_output.argmax(dim=1) == labels).float().mean())\n",
    "                epoch_valid_accuracy += acc/len(valid_loader)\n",
    "                epoch_valid_loss += valid_loss/len(valid_loader) \n",
    "                \n",
    "        print('Epoch: {}, validation accuracy: {:.2f}%, valid loss: {:.4f}'.format(epoch+1, epoch_valid_accuracy*100, epoch_valid_loss))\n",
    "        valid_losses.append(epoch_valid_loss.item())\n",
    "        valid_losses.append(epoch_valid_accuracy.item())\n",
    "\n",
    "        if best_acc <= epoch_valid_accuracy:\n",
    "            best_acc = epoch_valid_accuracy\n",
    "            save_checkpoint(model, epoch, optimiser, best_acc)\n",
    "\n",
    "    print(\"training complete\")\n",
    "\n",
    "    return model\n"
   ]
  },
  {
   "cell_type": "code",
   "execution_count": 142,
   "metadata": {},
   "outputs": [
    {
     "name": "stdout",
     "output_type": "stream",
     "text": [
      "Epoch: 1, train accuracy: 11.46%, train loss: 3.6441 | Epoch: 1, validation accuracy: 15.62%, valid loss: 3.5427\n",
      "Epoch: 2, train accuracy: 36.02%, train loss: 3.1151 | Epoch: 2, validation accuracy: 20.31%, valid loss: 3.2981\n",
      "Epoch: 3, train accuracy: 46.27%, train loss: 2.4653 | Epoch: 3, validation accuracy: 21.88%, valid loss: 3.2601\n",
      "Epoch: 4, train accuracy: 61.89%, train loss: 1.8797 | Epoch: 4, validation accuracy: 29.69%, valid loss: 2.9738\n",
      "Epoch: 5, train accuracy: 82.38%, train loss: 1.1101 | Epoch: 5, validation accuracy: 35.94%, valid loss: 2.8289\n",
      "Epoch: 6, train accuracy: 85.50%, train loss: 0.6990 | Epoch: 6, validation accuracy: 40.62%, valid loss: 2.3948\n",
      "Epoch: 7, train accuracy: 99.22%, train loss: 0.4098 | Epoch: 7, validation accuracy: 54.69%, valid loss: 2.1210\n",
      "Epoch: 8, train accuracy: 99.22%, train loss: 0.2159 | Epoch: 8, validation accuracy: 65.62%, valid loss: 1.7885\n",
      "Epoch: 9, train accuracy: 98.44%, train loss: 0.2166 | Epoch: 9, validation accuracy: 60.94%, valid loss: 1.7475\n",
      "Epoch: 10, train accuracy: 100.00%, train loss: 0.1446 | Epoch: 10, validation accuracy: 68.75%, valid loss: 1.6731\n",
      "Epoch: 11, train accuracy: 97.22%, train loss: 0.2344 | Epoch: 11, validation accuracy: 64.06%, valid loss: 1.7360\n",
      "Epoch: 12, train accuracy: 100.00%, train loss: 0.1330 | Epoch: 12, validation accuracy: 57.81%, valid loss: 1.7581\n",
      "Epoch: 13, train accuracy: 99.22%, train loss: 0.1286 | Epoch: 13, validation accuracy: 60.94%, valid loss: 1.5599\n",
      "Epoch: 14, train accuracy: 99.22%, train loss: 0.0872 | Epoch: 14, validation accuracy: 56.25%, valid loss: 1.8639\n",
      "Epoch: 15, train accuracy: 100.00%, train loss: 0.0535 | Epoch: 15, validation accuracy: 54.69%, valid loss: 1.6568\n",
      "Epoch: 16, train accuracy: 97.22%, train loss: 0.1301 | Epoch: 16, validation accuracy: 65.62%, valid loss: 1.5207\n",
      "Epoch: 17, train accuracy: 100.00%, train loss: 0.0700 | Epoch: 17, validation accuracy: 54.69%, valid loss: 1.6215\n",
      "Epoch: 18, train accuracy: 100.00%, train loss: 0.0946 | Epoch: 18, validation accuracy: 60.94%, valid loss: 1.4862\n",
      "Epoch: 19, train accuracy: 97.22%, train loss: 0.0839 | Epoch: 19, validation accuracy: 62.50%, valid loss: 1.3463\n",
      "Epoch: 20, train accuracy: 100.00%, train loss: 0.0315 | Epoch: 20, validation accuracy: 57.81%, valid loss: 1.7926\n",
      "Epoch: 21, train accuracy: 100.00%, train loss: 0.1287 | Epoch: 21, validation accuracy: 65.62%, valid loss: 1.5687\n",
      "Epoch: 22, train accuracy: 100.00%, train loss: 0.0396 | Epoch: 22, validation accuracy: 68.75%, valid loss: 1.4277\n",
      "Epoch: 23, train accuracy: 99.22%, train loss: 0.0447 | Epoch: 23, validation accuracy: 59.38%, valid loss: 1.4997\n",
      "Epoch: 24, train accuracy: 100.00%, train loss: 0.0502 | Epoch: 24, validation accuracy: 65.62%, valid loss: 1.4601\n",
      "Epoch: 25, train accuracy: 100.00%, train loss: 0.0311 | Epoch: 25, validation accuracy: 70.31%, valid loss: 1.1990\n",
      "training complete\n"
     ]
    }
   ],
   "source": [
    "model = train_network(usedModel, train_loader, valid_loader, loss_fn, optimiser, epochs)"
   ]
  },
  {
   "cell_type": "code",
   "execution_count": 143,
   "metadata": {},
   "outputs": [],
   "source": [
    "checkpoint = torch.load(checkpointName+'.pth.tar')\n",
    "\n",
    "if usedModel == resnet18_model:\n",
    "    savedModel = models.resnet18()\n",
    "else:\n",
    "    savedModel = models.resnet50()\n",
    "\n",
    "num_ftrs = savedModel.fc.in_features\n",
    "savedModel.fc = nn.Linear(num_ftrs, num_object_categories)\n",
    "savedModel.load_state_dict(checkpoint['model'])\n",
    "\n",
    "torch.save(savedModel, checkpointName+'.pth')"
   ]
  }
 ],
 "metadata": {
  "kernelspec": {
   "display_name": "Python 3 (ipykernel)",
   "language": "python",
   "name": "python3"
  },
  "language_info": {
   "codemirror_mode": {
    "name": "ipython",
    "version": 3
   },
   "file_extension": ".py",
   "mimetype": "text/x-python",
   "name": "python",
   "nbconvert_exporter": "python",
   "pygments_lexer": "ipython3",
   "version": "3.11.7"
  }
 },
 "nbformat": 4,
 "nbformat_minor": 2
}
