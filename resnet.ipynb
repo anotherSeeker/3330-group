{
 "cells": [
  {
   "cell_type": "code",
   "execution_count": 1,
   "metadata": {},
   "outputs": [],
   "source": [
    "import torch\n",
    "import torchvision\n",
    "import torchvision.transforms as transforms\n",
    "import pandas as pd\n",
    "import numpy as np\n",
    "import matplotlib.pyplot as plt"
   ]
  },
  {
   "cell_type": "code",
   "execution_count": 2,
   "metadata": {},
   "outputs": [
    {
     "name": "stdout",
     "output_type": "stream",
     "text": [
      "Using cuda\n"
     ]
    },
    {
     "data": {
      "text/plain": [
       "device(type='cuda')"
      ]
     },
     "execution_count": 2,
     "metadata": {},
     "output_type": "execute_result"
    }
   ],
   "source": [
    "device = 'cuda' if torch.cuda.is_available() else 'cpu'\n",
    "print('Using {}'.format(device))\n",
    "torch.device(device)"
   ]
  },
  {
   "cell_type": "code",
   "execution_count": 3,
   "metadata": {},
   "outputs": [],
   "source": [
    "#training variables\n",
    "\n",
    "imgTransformSize = 224\n",
    "#range of degrees +- to rotate\n",
    "imgTransformRngRot = 5\n",
    "\n",
    "epochs = 25\n",
    "\n",
    "modelLearnRate = 0.1\n",
    "modelMomentum=0.5\n",
    "modelWeightDecay=0.003\n",
    "\n",
    "\n",
    "train_dataset_path = './datasets/FoodTrain1'\n",
    "valid_dataset_path = './datasets/FoodValidate1'"
   ]
  },
  {
   "cell_type": "code",
   "execution_count": 4,
   "metadata": {},
   "outputs": [],
   "source": [
    "train_transforms = transforms.Compose([\n",
    "    transforms.RandomResizedCrop(scale=(0.6, 1.0), size=(imgTransformSize,imgTransformSize)),\n",
    "    transforms.RandomHorizontalFlip(),\n",
    "    transforms.RandomRotation(imgTransformRngRot),\n",
    "    transforms.ToTensor()\n",
    "])\n",
    "\n",
    "valid_transforms = transforms.Compose([\n",
    "    transforms.RandomResizedCrop(size=(imgTransformSize,imgTransformSize)),\n",
    "    transforms.ToTensor()\n",
    "])"
   ]
  },
  {
   "cell_type": "code",
   "execution_count": 5,
   "metadata": {},
   "outputs": [],
   "source": [
    "train_dataset = torchvision.datasets.ImageFolder(root = train_dataset_path, transform = train_transforms)\n",
    "valid_dataset = torchvision.datasets.ImageFolder(root = valid_dataset_path, transform = valid_transforms)"
   ]
  },
  {
   "cell_type": "code",
   "execution_count": 6,
   "metadata": {},
   "outputs": [],
   "source": [
    "def show_transformed_images(dataset):\n",
    "    loader = torch.utils.data.DataLoader(dataset, batch_size = 6, shuffle=True)\n",
    "    batch = next(iter(loader))\n",
    "    images, labels = batch\n",
    "    \n",
    "    grid = torchvision.utils.make_grid(images, nrow=3)\n",
    "    plt.figure(figsize=(11,11))\n",
    "    plt.imshow(np.transpose(grid,(1,2,0)))\n",
    "    print('labels: ', labels)\n",
    "\n",
    "#show_transformed_images(train_dataset)"
   ]
  },
  {
   "cell_type": "code",
   "execution_count": 7,
   "metadata": {},
   "outputs": [],
   "source": [
    "train_loader = torch.utils.data.DataLoader(train_dataset, batch_size = 32, shuffle = True)\n",
    "valid_loader = torch.utils.data.DataLoader(valid_dataset, batch_size = 32, shuffle = False)\n",
    "\n",
    "train_losses, valid_losses = [], []\n",
    "train_accs, valid_accs = [], []\n"
   ]
  },
  {
   "cell_type": "code",
   "execution_count": 8,
   "metadata": {},
   "outputs": [],
   "source": [
    "import torchvision.models as models\n",
    "import torch.nn as nn\n",
    "import torch.optim as optim\n",
    "\n",
    "resnet18_model = models.resnet18(weights = None)\n",
    "num_features = resnet18_model.fc.in_features\n",
    "num_object_categories = 40 \n",
    "resnet18_model.fc = nn.Linear(num_features, num_object_categories)\n",
    "resnet18_model = resnet18_model.to(device)\n",
    "\n",
    "\n",
    "resnet50_model = models.resnet50(weights = models.ResNet50_Weights.IMAGENET1K_V2)\n",
    "num_features = resnet50_model.fc.in_features\n",
    "num_object_categories = 40 \n",
    "resnet50_model.fc = nn.Linear(num_features, num_object_categories)\n",
    "resnet50_model = resnet50_model.to(device)\n",
    "\n",
    "\n",
    "#The model we're actually using\n",
    "usedModel = resnet50_model"
   ]
  },
  {
   "cell_type": "code",
   "execution_count": 9,
   "metadata": {},
   "outputs": [],
   "source": [
    "loss_fn = nn.CrossEntropyLoss()\n",
    "\n",
    "optimiser = optim.SGD(usedModel.parameters(), lr=modelLearnRate, momentum=modelMomentum, weight_decay=modelWeightDecay)"
   ]
  },
  {
   "cell_type": "code",
   "execution_count": 10,
   "metadata": {},
   "outputs": [],
   "source": [
    "def save_checkpoint(model, epoch, optimiser, best_acc):\n",
    "    state = {\n",
    "        'epoch': epoch+1,\n",
    "        'model': model.state_dict(),\n",
    "        'best_accuracy': optimiser.state_dict(),\n",
    "        'comments':'test'\n",
    "    }\n",
    "    torch.save(state, 'model_best_checkpoint.pth.tar')"
   ]
  },
  {
   "cell_type": "code",
   "execution_count": 11,
   "metadata": {},
   "outputs": [],
   "source": [
    "def train_network(model, train_loader, valid_loader, criterion, optimiser, n_epochs):\n",
    "    \n",
    "    best_acc = 0\n",
    "    \n",
    "    for epoch in range(n_epochs):\n",
    "        #print(\"Epoch number %d (epoch + 1)\")\n",
    "        model.train()\n",
    "        epoch_loss, epoch_accuracy = 0, 0\n",
    "        epoch_valid_accuracy, epoch_valid_loss = 0, 0\n",
    "        totalImg = 0\n",
    "        running_total = 0\n",
    "\n",
    "        for data in train_loader:\n",
    "            images, labels = data\n",
    "            images = images.to(device)\n",
    "            labels = labels.to(device)\n",
    "            totalImg += labels.size(0)\n",
    "\n",
    "            optimiser.zero_grad()\n",
    "\n",
    "            outputs = model(images)\n",
    "\n",
    "            loss = criterion(outputs, labels)\n",
    "            loss.backward()\n",
    "\n",
    "            optimiser.step()\n",
    "\n",
    "            acc = ((outputs.argmax(dim=1) == labels).float().mean())\n",
    "\n",
    "            running_total += (outputs.argmax(dim=1) == labels).sum().item()\n",
    "\n",
    "            epoch_accuracy += acc/len(train_loader)\n",
    "            epoch_loss += loss/len(train_loader)\n",
    "\n",
    "        print('Epoch: {}, train accuracy: {:.2f}%, train loss: {:.4f}'.format(epoch+1, epoch_accuracy*100, epoch_loss))\n",
    "        train_losses.append(epoch_loss.item())\n",
    "        train_accs.append(epoch_accuracy.item())\n",
    "\n",
    "        #print(\"     -training set got %d out of %d images (%.3f%%)\" % (running_total, totalImg, epoch_accuracy*100))\n",
    "        model.eval()\n",
    "\n",
    "        with torch.no_grad():\n",
    "\n",
    "            for data in valid_loader:\n",
    "                images, labels = data\n",
    "                images = images.to(device)\n",
    "                labels = labels.to(device)\n",
    "\n",
    "                valid_output = model(images)\n",
    "                valid_loss = loss_fn(valid_output, labels)\n",
    "\n",
    "                acc = ((valid_output.argmax(dim=1) == labels).float().mean())\n",
    "                epoch_valid_accuracy += acc/len(valid_loader)\n",
    "                epoch_valid_loss += valid_loss/len(valid_loader) \n",
    "                \n",
    "        print('Epoch: {}, validation accuracy: {:.2f}%, valid loss: {:.4f}'.format(epoch+1, epoch_valid_accuracy*100, epoch_valid_loss))\n",
    "        valid_losses.append(epoch_valid_loss.item())\n",
    "        valid_losses.append(epoch_valid_accuracy.item())\n",
    "\n",
    "        if best_acc < epoch_valid_accuracy:\n",
    "            best_acc = epoch_valid_accuracy\n",
    "            save_checkpoint(model, epoch, optimiser, best_acc)\n",
    "\n",
    "    print(\"training complete\")\n",
    "\n",
    "    return model\n"
   ]
  },
  {
   "cell_type": "code",
   "execution_count": 12,
   "metadata": {},
   "outputs": [
    {
     "name": "stdout",
     "output_type": "stream",
     "text": [
      "Epoch: 1, train accuracy: 12.67%, train loss: 3.5286\n",
      "Epoch: 1, validation accuracy: 29.69%, valid loss: 3.1037\n",
      "Epoch: 2, train accuracy: 57.79%, train loss: 2.2838\n",
      "Epoch: 2, validation accuracy: 35.94%, valid loss: 2.4698\n",
      "Epoch: 3, train accuracy: 77.88%, train loss: 1.0892\n",
      "Epoch: 3, validation accuracy: 78.12%, valid loss: 1.3339\n",
      "Epoch: 4, train accuracy: 95.00%, train loss: 0.3720\n",
      "Epoch: 4, validation accuracy: 90.62%, valid loss: 0.8064\n",
      "Epoch: 5, train accuracy: 98.75%, train loss: 0.1626\n",
      "Epoch: 5, validation accuracy: 95.31%, valid loss: 0.6737\n",
      "Epoch: 6, train accuracy: 100.00%, train loss: 0.0808\n",
      "Epoch: 6, validation accuracy: 96.88%, valid loss: 0.3282\n",
      "Epoch: 7, train accuracy: 98.67%, train loss: 0.0725\n",
      "Epoch: 7, validation accuracy: 98.44%, valid loss: 0.4138\n",
      "Epoch: 8, train accuracy: 100.00%, train loss: 0.0710\n",
      "Epoch: 8, validation accuracy: 92.19%, valid loss: 0.3469\n",
      "Epoch: 9, train accuracy: 100.00%, train loss: 0.0187\n",
      "Epoch: 9, validation accuracy: 98.44%, valid loss: 0.1038\n",
      "Epoch: 10, train accuracy: 100.00%, train loss: 0.0192\n",
      "Epoch: 10, validation accuracy: 100.00%, valid loss: 0.0862\n",
      "Epoch: 11, train accuracy: 100.00%, train loss: 0.0181\n",
      "Epoch: 11, validation accuracy: 100.00%, valid loss: 0.0986\n",
      "Epoch: 12, train accuracy: 100.00%, train loss: 0.0080\n",
      "Epoch: 12, validation accuracy: 96.88%, valid loss: 0.2201\n",
      "Epoch: 13, train accuracy: 100.00%, train loss: 0.0170\n",
      "Epoch: 13, validation accuracy: 96.88%, valid loss: 0.1882\n",
      "Epoch: 14, train accuracy: 100.00%, train loss: 0.0083\n",
      "Epoch: 14, validation accuracy: 78.12%, valid loss: 0.5761\n",
      "Epoch: 15, train accuracy: 100.00%, train loss: 0.0177\n",
      "Epoch: 15, validation accuracy: 95.31%, valid loss: 0.2559\n",
      "Epoch: 16, train accuracy: 99.38%, train loss: 0.0372\n",
      "Epoch: 16, validation accuracy: 98.44%, valid loss: 0.1032\n",
      "Epoch: 17, train accuracy: 100.00%, train loss: 0.0107\n",
      "Epoch: 17, validation accuracy: 98.44%, valid loss: 0.1415\n",
      "Epoch: 18, train accuracy: 100.00%, train loss: 0.0187\n",
      "Epoch: 18, validation accuracy: 98.44%, valid loss: 0.0522\n",
      "Epoch: 19, train accuracy: 100.00%, train loss: 0.0129\n",
      "Epoch: 19, validation accuracy: 100.00%, valid loss: 0.0851\n",
      "Epoch: 20, train accuracy: 100.00%, train loss: 0.0130\n",
      "Epoch: 20, validation accuracy: 90.62%, valid loss: 0.2211\n",
      "Epoch: 21, train accuracy: 100.00%, train loss: 0.0093\n",
      "Epoch: 21, validation accuracy: 96.88%, valid loss: 0.0823\n",
      "Epoch: 22, train accuracy: 100.00%, train loss: 0.0082\n",
      "Epoch: 22, validation accuracy: 96.88%, valid loss: 0.1434\n",
      "Epoch: 23, train accuracy: 100.00%, train loss: 0.0040\n",
      "Epoch: 23, validation accuracy: 90.62%, valid loss: 0.2506\n",
      "Epoch: 24, train accuracy: 100.00%, train loss: 0.0057\n",
      "Epoch: 24, validation accuracy: 87.50%, valid loss: 0.3108\n",
      "Epoch: 25, train accuracy: 98.67%, train loss: 0.0665\n",
      "Epoch: 25, validation accuracy: 98.44%, valid loss: 0.0518\n",
      "training complete\n"
     ]
    }
   ],
   "source": [
    "model = train_network(usedModel, train_loader, valid_loader, loss_fn, optimiser, epochs)"
   ]
  },
  {
   "cell_type": "code",
   "execution_count": 13,
   "metadata": {},
   "outputs": [],
   "source": [
    "#fig, (ax1, ax2) = plt.subplots(2, figsize=(12, 8), sharex=True)\n",
    "#ax1.plot(train_losses, color='b', label='train')\n",
    "#ax1.plot(valid_losses, color='g', label='valid')\n",
    "#ax1.set_ylabel(\"Loss\")\n",
    "#ax1.legend()\n",
    "#ax2.plot(train_accs, color='b', label='train')\n",
    "#ax2.plot(valid_accs, color='g', label='valid')\n",
    "#ax2.set_ylabel(\"Accuracy\")\n",
    "#ax2.set_xlabel(\"Epoch\")\n",
    "#ax2.legend()"
   ]
  }
 ],
 "metadata": {
  "kernelspec": {
   "display_name": "Python 3 (ipykernel)",
   "language": "python",
   "name": "python3"
  },
  "language_info": {
   "codemirror_mode": {
    "name": "ipython",
    "version": 3
   },
   "file_extension": ".py",
   "mimetype": "text/x-python",
   "name": "python",
   "nbconvert_exporter": "python",
   "pygments_lexer": "ipython3",
   "version": "3.11.7"
  }
 },
 "nbformat": 4,
 "nbformat_minor": 2
}
