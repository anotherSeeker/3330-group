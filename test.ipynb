{
 "cells": [
  {
   "cell_type": "code",
   "execution_count": 12,
   "metadata": {},
   "outputs": [],
   "source": [
    "import os \n",
    "import torch\n",
    "import torchvision\n",
    "import torchvision.transforms as transforms\n",
    "import pandas as pd"
   ]
  },
  {
   "cell_type": "code",
   "execution_count": 13,
   "metadata": {},
   "outputs": [
    {
     "name": "stdout",
     "output_type": "stream",
     "text": [
      "Using cuda\n",
      "     class       name  id                                       path\n",
      "0        0  Asparagus   1  .\\datasets\\FoodTest1\\00_Asparagus_001.JPG\n",
      "1        1   Carrotts   1   .\\datasets\\FoodTest1\\01_Carrotts_001.JPG\n",
      "2        1   Carrotts   2   .\\datasets\\FoodTest1\\01_Carrotts_002.JPG\n",
      "3        1   Carrotts   4   .\\datasets\\FoodTest1\\01_Carrotts_004.JPG\n",
      "4        1   Carrotts   6   .\\datasets\\FoodTest1\\01_Carrotts_006.JPG\n",
      "..     ...        ...  ..                                        ...\n",
      "138     39     Cheese   9     .\\datasets\\FoodTest1\\39_Cheese_009.JPG\n",
      "139     39     Cheese  11     .\\datasets\\FoodTest1\\39_Cheese_011.JPG\n",
      "140     39     Cheese  13     .\\datasets\\FoodTest1\\39_Cheese_013.JPG\n",
      "141     39     Cheese  15     .\\datasets\\FoodTest1\\39_Cheese_015.JPG\n",
      "142     39     Cheese  16     .\\datasets\\FoodTest1\\39_Cheese_016.JPG\n",
      "\n",
      "[143 rows x 4 columns]\n"
     ]
    }
   ],
   "source": [
    "device = 'cuda' if torch.cuda.is_available() else 'cpu'\n",
    "print('Using {}'.format(device))\n",
    "\n",
    "\n",
    "rawData = pd.read_csv('./baseFoodList.csv', header=None, names=['class','name','id','path'])\n",
    "print(rawData)\n",
    "\n",
    "# data\n",
    "data = rawData[['path']].to_numpy()\n",
    "label = rawData[['class', 'name', 'id']].to_numpy().flatten()"
   ]
  },
  {
   "cell_type": "code",
   "execution_count": null,
   "metadata": {},
   "outputs": [],
   "source": [
    "#training variables\n",
    "\n",
    "imgTransformSize = 224\n",
    "#range of degrees +- to rotate\n",
    "imgTransformRngRot = 5"
   ]
  },
  {
   "cell_type": "code",
   "execution_count": 14,
   "metadata": {},
   "outputs": [],
   "source": [
    "train_transformas = transforms.Compose([\n",
    "    transforms.RandomResizedCrop(scale=(0.6, 1.0), size=(imgTransformSize,imgTransformSize)),\n",
    "    transforms.RandomHorizontalFlip(),\n",
    "    transforms.RandomRotation(imgTransformRngRot),\n",
    "    transforms.ToTensor()\n",
    "])\n",
    "\n",
    "test_transforms = transforms.Compose([\n",
    "    transforms.RandomResizedCrop(size=(imgTransformSize,imgTransformSize)),\n",
    "    transforms.ToTensor()\n",
    "])"
   ]
  },
  {
   "cell_type": "code",
   "execution_count": null,
   "metadata": {},
   "outputs": [],
   "source": []
  },
  {
   "cell_type": "code",
   "execution_count": null,
   "metadata": {},
   "outputs": [],
   "source": []
  }
 ],
 "metadata": {
  "kernelspec": {
   "display_name": "Python 3 (ipykernel)",
   "language": "python",
   "name": "python3"
  },
  "language_info": {
   "codemirror_mode": {
    "name": "ipython",
    "version": 3
   },
   "file_extension": ".py",
   "mimetype": "text/x-python",
   "name": "python",
   "nbconvert_exporter": "python",
   "pygments_lexer": "ipython3",
   "version": "3.11.7"
  }
 },
 "nbformat": 4,
 "nbformat_minor": 2
}
