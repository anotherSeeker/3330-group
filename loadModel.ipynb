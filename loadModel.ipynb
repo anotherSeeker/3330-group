{
 "cells": [
  {
   "cell_type": "code",
   "execution_count": null,
   "metadata": {},
   "outputs": [],
   "source": [
    "import torch\n",
    "import torchvision\n",
    "import torchvision.transforms as transforms\n",
    "import numpy as np\n",
    "import matplotlib.pyplot as plt"
   ]
  },
  {
   "cell_type": "code",
   "execution_count": null,
   "metadata": {},
   "outputs": [],
   "source": [
    "categories = {\n",
    "    \"Asparagus\",\n",
    "    \"Carrot\",\n",
    "    \"Oysters\",\n",
    "    \"Pork\",\n",
    "    \"Salmon\",\n",
    "    \"Zuccini\",\n",
    "    \"Strawberries\",\n",
    "    \"Sausages\",\n",
    "    \"Garlic\",\n",
    "    \"Ginger\",\n",
    "    \"Cauliflower\",\n",
    "    \"Capsicum\",\n",
    "    \"Pumpkin\",\n",
    "    \"Rockmelon\",\n",
    "    \"Watermelon\",\n",
    "    \"Avocado\",\n",
    "    \"Tomato\",\n",
    "    \"Pineapple\",\n",
    "    \"Pears\",\n",
    "    \"Apples\",\n",
    "    \"Peach\",\n",
    "    \"Trout\",\n",
    "    \"Snapper\",\n",
    "    \"Barramundi\",\n",
    "    \"Prawns\",\n",
    "    \"Tropical Fish\",\n",
    "    \"Steak\",\n",
    "    \"Chicken\",\n",
    "    \"Lamb\",\n",
    "    \"Mushrooms\",\n",
    "    \"Red Onion\",\n",
    "    \"Tortellini\",\n",
    "    \"Blueberries\",\n",
    "    \"Lettuce\",\n",
    "    \"Milk\",\n",
    "    \"Eggs\",\n",
    "    \"Juice\",\n",
    "    \"Kiwi\",\n",
    "    \"Butter\",\n",
    "    \"Cheese\"\n",
    "}"
   ]
  },
  {
   "cell_type": "code",
   "execution_count": null,
   "metadata": {},
   "outputs": [],
   "source": []
  }
 ],
 "metadata": {
  "kernelspec": {
   "display_name": "Python 3 (ipykernel)",
   "language": "python",
   "name": "python3"
  }
 },
 "nbformat": 4,
 "nbformat_minor": 2
}
